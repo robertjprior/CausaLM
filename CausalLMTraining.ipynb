{
  "nbformat": 4,
  "nbformat_minor": 0,
  "metadata": {
    "colab": {
      "provenance": [],
      "authorship_tag": "ABX9TyPZltDyY1/J9RhRGZRFU2/E",
      "include_colab_link": true
    },
    "kernelspec": {
      "name": "python3",
      "display_name": "Python 3"
    },
    "language_info": {
      "name": "python"
    }
  },
  "cells": [
    {
      "cell_type": "markdown",
      "metadata": {
        "id": "view-in-github",
        "colab_type": "text"
      },
      "source": [
        "<a href=\"https://colab.research.google.com/github/robertjprior/CausaLM/blob/master/CausalLMTraining.ipynb\" target=\"_parent\"><img src=\"https://colab.research.google.com/assets/colab-badge.svg\" alt=\"Open In Colab\"/></a>"
      ]
    },
    {
      "cell_type": "code",
      "source": [
        "!git clone https://github.com/robertjprior/CausaLM.git"
      ],
      "metadata": {
        "colab": {
          "base_uri": "https://localhost:8080/"
        },
        "id": "plSuxfn8uh6L",
        "outputId": "73dac3a1-e31e-48f9-a9ed-1b047c73fea9"
      },
      "execution_count": null,
      "outputs": [
        {
          "output_type": "stream",
          "name": "stdout",
          "text": [
            "fatal: destination path 'CausaLM' already exists and is not an empty directory.\n"
          ]
        }
      ]
    },
    {
      "cell_type": "code",
      "source": [
        "#steps\n",
        "#1. Create the CausaLM conda environment: conda env create --file causalm_gpu_env.yml\n",
        "#2. Install the en_core_web_lg spaCy model.\n",
        "#3. Download the topics datasets and place them in the ./datasets folder.\n",
        "#4. Make sure the CAUSALM_DIR variable in constants.py is set to point to the path where the CausaLM datasets are located."
      ],
      "metadata": {
        "id": "dYacYe1grv_X"
      },
      "execution_count": null,
      "outputs": []
    },
    {
      "cell_type": "code",
      "source": [
        "#step 1\n",
        "#!pip install -r requirements.txt\n",
        "\n",
        "import os\n",
        "import yaml\n",
        "\n",
        "\n",
        "with open(\"/content/CausaLM/causalm_gpu_env.yml\") as file_handle:\n",
        "    environment_data = yaml.safe_load(file_handle)\n",
        "\n",
        "for dependency in environment_data[\"dependencies\"]:\n",
        "    if isinstance(dependency, dict):\n",
        "      print(\"beginning iteration through and loading\")\n",
        "      for lib in dependency['pip']:\n",
        "        print(f\"loading library: {lib}\")\n",
        "        os.system(f\"pip install {lib}\")"
      ],
      "metadata": {
        "id": "7LRHl-GPwH4m"
      },
      "execution_count": null,
      "outputs": []
    },
    {
      "cell_type": "code",
      "source": [
        "#step 2 https://spacy.io/models/en\n",
        "import spacy\n",
        "spacy download en_core_web_lg"
      ],
      "metadata": {
        "id": "zymUawn12aHY"
      },
      "execution_count": null,
      "outputs": []
    },
    {
      "cell_type": "code",
      "source": [
        "\n"
      ],
      "metadata": {
        "colab": {
          "base_uri": "https://localhost:8080/"
        },
        "id": "zMcXlkCS2aLu",
        "outputId": "484452d5-f307-425d-b71a-b51316e2524c"
      },
      "execution_count": null,
      "outputs": [
        {
          "output_type": "execute_result",
          "data": {
            "text/plain": [
              "b'root\\n'"
            ]
          },
          "metadata": {},
          "execution_count": 25
        }
      ]
    },
    {
      "cell_type": "code",
      "source": [
        "import subprocess\n",
        "#working from the terminal\n",
        "#subprocess.check_output(['whoami']) - useless\n",
        "wd = os.getcwd()\n",
        "print(wd)\n",
        "#list current working directory\n",
        "print(subprocess.check_output([\"pwd\"], cwd=wd))\n",
        "\n",
        "#list files within current directory\n",
        "print(subprocess.check_output(['ls', '-l'], cwd=wd))"
      ],
      "metadata": {
        "colab": {
          "base_uri": "https://localhost:8080/",
          "height": 35
        },
        "id": "0QQz2TJZ7B6j",
        "outputId": "10da41bb-5def-4a0e-8ab2-0e4ac614c4d0"
      },
      "execution_count": null,
      "outputs": [
        {
          "output_type": "execute_result",
          "data": {
            "text/plain": [
              "'/content'"
            ],
            "application/vnd.google.colaboratory.intrinsic+json": {
              "type": "string"
            }
          },
          "metadata": {},
          "execution_count": 28
        }
      ]
    },
    {
      "cell_type": "code",
      "source": [
        "import os"
      ],
      "metadata": {
        "id": "Yp0QVyHrvN9X"
      },
      "execution_count": null,
      "outputs": []
    },
    {
      "cell_type": "code",
      "source": [
        "home_dir = os.system(\"cd ~\")\n",
        "home_dir"
      ],
      "metadata": {
        "colab": {
          "base_uri": "https://localhost:8080/"
        },
        "id": "dHJC-4Fa1dcO",
        "outputId": "ea2f79a9-f6e4-4444-bed3-1de0aca259b0"
      },
      "execution_count": null,
      "outputs": [
        {
          "output_type": "execute_result",
          "data": {
            "text/plain": [
              "0"
            ]
          },
          "metadata": {},
          "execution_count": 18
        }
      ]
    },
    {
      "cell_type": "code",
      "source": [
        "print(\"`cd ~` ran with exit code %d\" % home_dir)"
      ],
      "metadata": {
        "colab": {
          "base_uri": "https://localhost:8080/"
        },
        "id": "Pf-rXBEX1iku",
        "outputId": "2e200918-7750-4e84-94fb-a5f5adbb9082"
      },
      "execution_count": null,
      "outputs": [
        {
          "output_type": "stream",
          "name": "stdout",
          "text": [
            "`cd ~` ran with exit code 0\n"
          ]
        }
      ]
    },
    {
      "cell_type": "code",
      "source": [
        "cwd = os.system(\"cd\")\n",
        "os.system(\"%cd%\")\n"
      ],
      "metadata": {
        "colab": {
          "base_uri": "https://localhost:8080/"
        },
        "id": "Jfac63_Ywsch",
        "outputId": "837914dd-fdaf-440d-de24-8fd0094cae35"
      },
      "execution_count": null,
      "outputs": [
        {
          "output_type": "execute_result",
          "data": {
            "text/plain": [
              "32512"
            ]
          },
          "metadata": {},
          "execution_count": 17
        }
      ]
    },
    {
      "cell_type": "code",
      "source": [
        "os.system(\"cd /?\")"
      ],
      "metadata": {
        "colab": {
          "base_uri": "https://localhost:8080/"
        },
        "id": "isO_2VTi16pW",
        "outputId": "085e6a74-c1b0-4293-cc81-bc4eed5836cb"
      },
      "execution_count": null,
      "outputs": [
        {
          "output_type": "execute_result",
          "data": {
            "text/plain": [
              "512"
            ]
          },
          "metadata": {},
          "execution_count": 20
        }
      ]
    },
    {
      "cell_type": "code",
      "source": [
        "os.system(\"conda env create --file CausaLM/causalm_gpu_env.yml\")"
      ],
      "metadata": {
        "colab": {
          "base_uri": "https://localhost:8080/"
        },
        "id": "-SUQyX6TwAjH",
        "outputId": "6fddc6e3-1da5-45bf-c067-2eb5ddb05f2d"
      },
      "execution_count": null,
      "outputs": [
        {
          "output_type": "execute_result",
          "data": {
            "text/plain": [
              "32512"
            ]
          },
          "metadata": {},
          "execution_count": 9
        }
      ]
    },
    {
      "cell_type": "code",
      "source": [
        "os.getcwd()"
      ],
      "metadata": {
        "colab": {
          "base_uri": "https://localhost:8080/",
          "height": 35
        },
        "id": "GWzNST7FxZhA",
        "outputId": "af88722e-d830-4cdc-805a-286b1e5515b2"
      },
      "execution_count": null,
      "outputs": [
        {
          "output_type": "execute_result",
          "data": {
            "text/plain": [
              "'/content'"
            ],
            "application/vnd.google.colaboratory.intrinsic+json": {
              "type": "string"
            }
          },
          "metadata": {},
          "execution_count": 11
        }
      ]
    },
    {
      "cell_type": "code",
      "source": [],
      "metadata": {
        "id": "WR1cLTEixaCT"
      },
      "execution_count": null,
      "outputs": []
    }
  ]
}